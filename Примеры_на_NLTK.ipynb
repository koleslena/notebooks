{
  "nbformat": 4,
  "nbformat_minor": 0,
  "metadata": {
    "colab": {
      "provenance": [],
      "include_colab_link": true
    },
    "kernelspec": {
      "name": "python3",
      "display_name": "Python 3"
    },
    "language_info": {
      "name": "python"
    }
  },
  "cells": [
    {
      "cell_type": "markdown",
      "metadata": {
        "id": "view-in-github",
        "colab_type": "text"
      },
      "source": [
        "<a href=\"https://colab.research.google.com/github/koleslena/notebooks/blob/main/%D0%9F%D1%80%D0%B8%D0%BC%D0%B5%D1%80%D1%8B_%D0%BD%D0%B0_NLTK.ipynb\" target=\"_parent\"><img src=\"https://colab.research.google.com/assets/colab-badge.svg\" alt=\"Open In Colab\"/></a>"
      ]
    },
    {
      "cell_type": "markdown",
      "source": [
        "Возьмем примеры текста"
      ],
      "metadata": {
        "id": "2GQBfCaTd6Eo"
      }
    },
    {
      "cell_type": "code",
      "source": [
        "# Пример текста\n",
        "text = \"\"\"Just them another visitor entered the drawing room:\n",
        "Prince Andrew Bolkonski, the little princess’ husband. He\n",
        "was a very handsome young man, of medium height, with\n",
        "firm, clearcut features. Everything about him, from his\n",
        "weary, bored expression to his quiet, measured step,\n",
        "offered a most striking contrast to his quiet, little wife. It\n",
        "was evident that he not only knew everyone in the\n",
        "drawing room, but had found them to be so tiresome that\n",
        "it wearied him to look at or listen to them. \"\"\"\n",
        "print(text)"
      ],
      "metadata": {
        "colab": {
          "base_uri": "https://localhost:8080/"
        },
        "id": "Rp0xFyizd3UX",
        "outputId": "84f58b17-88fb-4d2b-b80e-3f639bd06b09"
      },
      "execution_count": null,
      "outputs": [
        {
          "output_type": "stream",
          "name": "stdout",
          "text": [
            "Just them another visitor entered the drawing room:\n",
            "Prince Andrew Bolkonski, the little princess’ husband. He\n",
            "was a very handsome young man, of medium height, with\n",
            "firm, clearcut features. Everything about him, from his\n",
            "weary, bored expression to his quiet, measured step,\n",
            "offered a most striking contrast to his quiet, little wife. It\n",
            "was evident that he not only knew everyone in the\n",
            "drawing room, but had found them to be so tiresome that\n",
            "it wearied him to look at or listen to them. \n"
          ]
        }
      ]
    },
    {
      "cell_type": "markdown",
      "source": [
        "Токенизация"
      ],
      "metadata": {
        "id": "fRdBd9QZdN4j"
      }
    },
    {
      "cell_type": "code",
      "execution_count": null,
      "metadata": {
        "colab": {
          "base_uri": "https://localhost:8080/"
        },
        "id": "f9ctGg-vci3K",
        "outputId": "ac87654c-5c08-42dc-eb89-bf4f98108acf"
      },
      "outputs": [
        {
          "output_type": "stream",
          "name": "stdout",
          "text": [
            "['Just', 'them', 'another', 'visitor', 'entered', 'the', 'drawing', 'room', ':', 'Prince', 'Andrew', 'Bolkonski', ',', 'the', 'little', 'princess', '’', 'husband', '.', 'He', 'was', 'a', 'very', 'handsome', 'young', 'man', ',', 'of', 'medium', 'height', ',', 'with', 'firm', ',', 'clearcut', 'features', '.', 'Everything', 'about', 'him', ',', 'from', 'his', 'weary', ',', 'bored', 'expression', 'to', 'his', 'quiet', ',', 'measured', 'step', ',', 'offered', 'a', 'most', 'striking', 'contrast', 'to', 'his', 'quiet', ',', 'little', 'wife', '.', 'It', 'was', 'evident', 'that', 'he', 'not', 'only', 'knew', 'everyone', 'in', 'the', 'drawing', 'room', ',', 'but', 'had', 'found', 'them', 'to', 'be', 'so', 'tiresome', 'that', 'it', 'wearied', 'him', 'to', 'look', 'at', 'or', 'listen', 'to', 'them', '.']\n"
          ]
        }
      ],
      "source": [
        "import nltk\n",
        "from nltk.tokenize import word_tokenize\n",
        "\n",
        "\n",
        "# Токенизация текста\n",
        "tokens = word_tokenize(text)\n",
        "\n",
        "# Вывод токенов\n",
        "print(tokens)\n"
      ]
    },
    {
      "cell_type": "markdown",
      "source": [
        "Удалим стоп-слова и пунктуацию - это два важных аспекта при обработке текста на естественном языке. Вот краткая справка по каждому из этих понятий:\n",
        "\n",
        "1. Стоп-слова:\n",
        "\n",
        "   - Определение: Стоп-слова (Stop words) - это слова, которые фильтруются или игнорируются при анализе текста, так как они считаются наиболее часто встречающимися и имеют мало информационной ценности.\n",
        "   \n",
        "   - Примеры стоп-слов: Примерами стоп-слов могут быть слова типа \"и\", \"в\", \"на\", \"это\", \"с\", \"как\" и т. д., которые часто встречаются в текстах, но не несут смысловой нагрузки.\n",
        "   \n",
        "   - Использование: Удаление стоп-слов позволяет сосредоточиться на более значимых словах в тексте и улучшить качество анализа. В NLP библиотеках, таких как NLTK, обычно имеются списки стоп-слов для различных языков.\n",
        "\n",
        "2. Пунктуация:\n",
        "\n",
        "   - Определение: Пунктуация - это категория символов, включающая знаки препинания, знаки письма и специальные символы, которые используются для структурирования и оформления текста.\n",
        "   \n",
        "   - Примеры пунктуационных символов: Примерами пунктуационных символов являются точка, запятая, вопросительный знак, кавычки, тире и другие специальные символы.\n",
        "   \n",
        "   - Использование: Удаление пунктуации в тексте помогает сосредоточиться на текстовых данных без учета различных знаков и символов. Это обычно делается перед токенизацией или другими операциями обработки текста.\n",
        "\n",
        "Примечание: Исключение стоп-слов и пунктуации из текста перед проведением анализа или обработки является важным методом для улучшения качества анализа и сосредоточения на значимых словах и фразах."
      ],
      "metadata": {
        "id": "5RVIcrAeetc-"
      }
    },
    {
      "cell_type": "code",
      "source": [
        "from nltk.tokenize import word_tokenize\n",
        "from nltk.corpus import stopwords\n",
        "import string\n",
        "\n",
        "stop = set(stopwords.words('english') + list(string.punctuation)+list(\"’\"))"
      ],
      "metadata": {
        "id": "xK4BQ0aTd71v"
      },
      "execution_count": null,
      "outputs": []
    },
    {
      "cell_type": "markdown",
      "source": [
        "Теперь удалим их из нашего токенизированного списка"
      ],
      "metadata": {
        "id": "Sku7KRjkfu_A"
      }
    },
    {
      "cell_type": "code",
      "source": [
        "tokens = [token for token in tokens if token.lower() not in stop]\n",
        "print(tokens)"
      ],
      "metadata": {
        "colab": {
          "base_uri": "https://localhost:8080/"
        },
        "id": "45B_26wufui3",
        "outputId": "545813e4-e6c0-40a5-8c46-ba56df9326e1"
      },
      "execution_count": null,
      "outputs": [
        {
          "output_type": "stream",
          "name": "stdout",
          "text": [
            "['another', 'visitor', 'entered', 'drawing', 'room', 'Prince', 'Andrew', 'Bolkonski', 'little', 'princess', 'husband', 'handsome', 'young', 'man', 'medium', 'height', 'firm', 'clearcut', 'features', 'Everything', 'weary', 'bored', 'expression', 'quiet', 'measured', 'step', 'offered', 'striking', 'contrast', 'quiet', 'little', 'wife', 'evident', 'knew', 'everyone', 'drawing', 'room', 'found', 'tiresome', 'wearied', 'look', 'listen']\n"
          ]
        }
      ]
    },
    {
      "cell_type": "markdown",
      "source": [
        "Добавим к токенизации стемминг"
      ],
      "metadata": {
        "id": "MYxrj_ZHdMsw"
      }
    },
    {
      "cell_type": "code",
      "source": [
        "from nltk.stem import PorterStemmer\n",
        "\n",
        "# Создаем объект стеммера Портера\n",
        "porter = PorterStemmer()\n",
        "\n",
        "# Стемминг для каждого токена\n",
        "stemmed_tokens = [porter.stem(token) for token in tokens]\n",
        "\n",
        "# Вывод стеммированных токенов\n",
        "print(stemmed_tokens)\n"
      ],
      "metadata": {
        "colab": {
          "base_uri": "https://localhost:8080/"
        },
        "id": "pQuFnqVAdI6n",
        "outputId": "26f7a3c9-2f1e-4de2-966b-78c40c3ba75a"
      },
      "execution_count": null,
      "outputs": [
        {
          "output_type": "stream",
          "name": "stdout",
          "text": [
            "['anoth', 'visitor', 'enter', 'draw', 'room', 'princ', 'andrew', 'bolkonski', 'littl', 'princess', 'husband', 'handsom', 'young', 'man', 'medium', 'height', 'firm', 'clearcut', 'featur', 'everyth', 'weari', 'bore', 'express', 'quiet', 'measur', 'step', 'offer', 'strike', 'contrast', 'quiet', 'littl', 'wife', 'evid', 'knew', 'everyon', 'draw', 'room', 'found', 'tiresom', 'weari', 'look', 'listen']\n"
          ]
        }
      ]
    },
    {
      "cell_type": "markdown",
      "source": [
        "Добавим лемматизацию вместо стемминга"
      ],
      "metadata": {
        "id": "Cn-CHZk1daGA"
      }
    },
    {
      "cell_type": "code",
      "source": [
        "from nltk.stem import WordNetLemmatizer\n",
        "\n",
        "# Создаем объект лемматизатора WordNet\n",
        "lemmatizer = WordNetLemmatizer()\n",
        "\n",
        "# Лемматизация для каждого токена\n",
        "lemmatized_tokens = [lemmatizer.lemmatize(token) for token in tokens]\n",
        "\n",
        "# Вывод лемматизированных токенов\n",
        "print(lemmatized_tokens)\n"
      ],
      "metadata": {
        "colab": {
          "base_uri": "https://localhost:8080/"
        },
        "id": "la5oEaY1dlvN",
        "outputId": "c63072e2-b016-4322-d8c3-60cc67b45a82"
      },
      "execution_count": null,
      "outputs": [
        {
          "output_type": "stream",
          "name": "stdout",
          "text": [
            "['another', 'visitor', 'entered', 'drawing', 'room', 'Prince', 'Andrew', 'Bolkonski', 'little', 'princess', 'husband', 'handsome', 'young', 'man', 'medium', 'height', 'firm', 'clearcut', 'feature', 'Everything', 'weary', 'bored', 'expression', 'quiet', 'measured', 'step', 'offered', 'striking', 'contrast', 'quiet', 'little', 'wife', 'evident', 'knew', 'everyone', 'drawing', 'room', 'found', 'tiresome', 'wearied', 'look', 'listen']\n"
          ]
        }
      ]
    }
  ]
}