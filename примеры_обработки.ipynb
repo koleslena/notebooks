{
  "nbformat": 4,
  "nbformat_minor": 0,
  "metadata": {
    "colab": {
      "provenance": [],
      "include_colab_link": true
    },
    "kernelspec": {
      "name": "python3",
      "display_name": "Python 3"
    },
    "language_info": {
      "name": "python"
    }
  },
  "cells": [
    {
      "cell_type": "markdown",
      "metadata": {
        "id": "view-in-github",
        "colab_type": "text"
      },
      "source": [
        "<a href=\"https://colab.research.google.com/github/koleslena/notebooks/blob/main/%D0%BF%D1%80%D0%B8%D0%BC%D0%B5%D1%80%D1%8B_%D0%BE%D0%B1%D1%80%D0%B0%D0%B1%D0%BE%D1%82%D0%BA%D0%B8.ipynb\" target=\"_parent\"><img src=\"https://colab.research.google.com/assets/colab-badge.svg\" alt=\"Open In Colab\"/></a>"
      ]
    },
    {
      "cell_type": "markdown",
      "source": [
        "Пример реализации bag of words"
      ],
      "metadata": {
        "id": "hxI76VGIRGUu"
      }
    },
    {
      "cell_type": "code",
      "execution_count": null,
      "metadata": {
        "colab": {
          "base_uri": "https://localhost:8080/"
        },
        "id": "D98H812DQpoF",
        "outputId": "08d08149-5aed-481e-bd01-bce46389f47e"
      },
      "outputs": [
        {
          "output_type": "stream",
          "name": "stdout",
          "text": [
            "Матрица признаков Bag of Words:\n",
            "[[0 0 0 1 0 1 0 1]\n",
            " [0 1 1 0 1 0 1 0]\n",
            " [1 1 0 0 0 1 0 0]]\n",
            "\n",
            "Список признаков (слов):\n",
            "['дружат' 'кошка' 'кровати' 'любит' 'на' 'собака' 'спит' 'сыр']\n"
          ]
        }
      ],
      "source": [
        "from sklearn.feature_extraction.text import CountVectorizer\n",
        "\n",
        "# Создание датасета\n",
        "dataset = [\n",
        "    'собака любит сыр',\n",
        "    'кошка спит на кровати',\n",
        "    'собака и кошка дружат'\n",
        "]\n",
        "\n",
        "# Инициализация объекта CountVectorizer\n",
        "vectorizer = CountVectorizer()\n",
        "\n",
        "# Преобразование документов в матрицу признаков Bag of Words\n",
        "X = vectorizer.fit_transform(dataset)\n",
        "\n",
        "# Получение списка признаков (слов) из Bag of Words\n",
        "feature_names = vectorizer.get_feature_names_out()\n",
        "\n",
        "# Вывод матрицы признаков\n",
        "print('Матрица признаков Bag of Words:')\n",
        "print(X.toarray())\n",
        "\n",
        "# Вывод списка признаков (слов)\n",
        "print('\\nСписок признаков (слов):')\n",
        "print(feature_names)\n"
      ]
    },
    {
      "cell_type": "markdown",
      "source": [
        "Пример реализации tf-idf"
      ],
      "metadata": {
        "id": "3Z4eW-LUT1_k"
      }
    },
    {
      "cell_type": "code",
      "source": [
        "from sklearn.feature_extraction.text import TfidfVectorizer\n",
        "\n",
        "# Создание корпуса документов\n",
        "corpus = [\n",
        "    'собака любит сыр',\n",
        "    'кошка спит на кровати',\n",
        "    'собака и кошка дружат'\n",
        "]\n",
        "\n",
        "# Инициализация объекта TfidfVectorizer\n",
        "vectorizer = TfidfVectorizer()\n",
        "\n",
        "# Преобразование документов в матрицу TF-IDF\n",
        "X = vectorizer.fit_transform(corpus)\n",
        "\n",
        "# Получение списка признаков (слов) из TF-IDF\n",
        "feature_names = vectorizer.get_feature_names_out()\n",
        "\n",
        "# Вывод матрицы TF-IDF\n",
        "print('Матрица TF-IDF:')\n",
        "print(X.toarray())\n",
        "\n",
        "# Вывод списка признаков (слов)\n",
        "print('\\nСписок признаков (слов):')\n",
        "print(feature_names)"
      ],
      "metadata": {
        "colab": {
          "base_uri": "https://localhost:8080/"
        },
        "id": "fYSgXQccUUJU",
        "outputId": "06a01f1c-e2e5-4995-a208-adc1c0844f3a"
      },
      "execution_count": null,
      "outputs": [
        {
          "output_type": "stream",
          "name": "stdout",
          "text": [
            "Матрица TF-IDF:\n",
            "[[0.         0.         0.         0.62276601 0.         0.4736296\n",
            "  0.         0.62276601]\n",
            " [0.         0.40204024 0.52863461 0.         0.52863461 0.\n",
            "  0.52863461 0.        ]\n",
            " [0.68091856 0.51785612 0.         0.         0.         0.51785612\n",
            "  0.         0.        ]]\n",
            "\n",
            "Список признаков (слов):\n",
            "['дружат' 'кошка' 'кровати' 'любит' 'на' 'собака' 'спит' 'сыр']\n"
          ]
        }
      ]
    }
  ]
}